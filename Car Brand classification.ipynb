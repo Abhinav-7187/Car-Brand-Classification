{
 "cells": [
  {
   "cell_type": "code",
   "execution_count": 1,
   "id": "fcf18e5a",
   "metadata": {
    "scrolled": true
   },
   "outputs": [
    {
     "name": "stdout",
     "output_type": "stream",
     "text": [
      "WARNING:tensorflow:From C:\\Users\\abhin\\AppData\\Roaming\\Python\\Python310\\site-packages\\keras\\src\\losses.py:2976: The name tf.losses.sparse_softmax_cross_entropy is deprecated. Please use tf.compat.v1.losses.sparse_softmax_cross_entropy instead.\n",
      "\n"
     ]
    }
   ],
   "source": [
    "from tensorflow.keras.layers import Input, Lambda, Dense, Flatten\n",
    "from tensorflow.keras.models import Model\n",
    "from tensorflow.keras.applications.resnet50 import ResNet50\n",
    "#from keras.applications.vgg16 import VGG16\n",
    "from tensorflow.keras.applications.resnet50 import preprocess_input\n",
    "from tensorflow.keras.preprocessing import image\n",
    "from tensorflow.keras.preprocessing.image import ImageDataGenerator,load_img\n",
    "from tensorflow.keras.models import Sequential\n",
    "import numpy as np\n",
    "from glob import glob\n",
    "import matplotlib.pyplot as plt"
   ]
  },
  {
   "cell_type": "code",
   "execution_count": 2,
   "id": "f6e797fb",
   "metadata": {},
   "outputs": [
    {
     "name": "stdout",
     "output_type": "stream",
     "text": [
      "1.26.3\n"
     ]
    }
   ],
   "source": [
    "print(np.__version__)"
   ]
  },
  {
   "cell_type": "code",
   "execution_count": 3,
   "id": "70cc216a",
   "metadata": {},
   "outputs": [
    {
     "name": "stdout",
     "output_type": "stream",
     "text": [
      "2.1.4\n"
     ]
    }
   ],
   "source": [
    "import pandas as pd\n",
    "print(pd.__version__)"
   ]
  },
  {
   "cell_type": "code",
   "execution_count": 4,
   "id": "ce113610",
   "metadata": {
    "scrolled": true
   },
   "outputs": [
    {
     "name": "stdout",
     "output_type": "stream",
     "text": [
      "2.15.0\n"
     ]
    }
   ],
   "source": [
    "import tensorflow as tf\n",
    "print(tf.__version__)"
   ]
  },
  {
   "cell_type": "code",
   "execution_count": 16,
   "id": "563a761e",
   "metadata": {},
   "outputs": [],
   "source": [
    "# re-size all the images to this\n",
    "IMAGE_SIZE = [224, 224]\n",
    "\n",
    "train_path = 'D:\\panda\\Deep-Learning-Car-Brand\\CarBrand_Train'\n",
    "valid_path = 'D:\\panda\\Deep-Learning-Car-Brand\\CarBrand_Test'"
   ]
  },
  {
   "cell_type": "code",
   "execution_count": 17,
   "id": "b6553a70",
   "metadata": {},
   "outputs": [],
   "source": [
    "# Import the resnet 50 library as shown below and add preprocessing layer to the front of Resnet 50\n",
    "# Here we will be using imagenet weights\n",
    "\n",
    "resnet = ResNet50(input_shape=IMAGE_SIZE + [3], weights='imagenet', include_top=False)"
   ]
  },
  {
   "cell_type": "code",
   "execution_count": 18,
   "id": "af88f579",
   "metadata": {},
   "outputs": [],
   "source": [
    "# don't train existing weights\n",
    "for layer in resnet.layers:\n",
    "    layer.trainable = False"
   ]
  },
  {
   "cell_type": "code",
   "execution_count": 19,
   "id": "90b68c2c",
   "metadata": {},
   "outputs": [],
   "source": [
    "# useful for getting number of output classes\n",
    "folders = glob('D:\\panda\\Deep-Learning-Car-Brand\\CarBrand_Train\\*')"
   ]
  },
  {
   "cell_type": "code",
   "execution_count": 20,
   "id": "74e27ba5",
   "metadata": {},
   "outputs": [],
   "source": [
    "# our layers - you can add more if you want\n",
    "x = Flatten()(resnet.output)"
   ]
  },
  {
   "cell_type": "code",
   "execution_count": 21,
   "id": "809ee1d3",
   "metadata": {},
   "outputs": [],
   "source": [
    "prediction = Dense(len(folders), activation='softmax')(x)\n",
    "\n",
    "# create a model object\n",
    "model = Model(inputs=resnet.input, outputs=prediction)"
   ]
  },
  {
   "cell_type": "code",
   "execution_count": 22,
   "id": "9f50dc13",
   "metadata": {},
   "outputs": [
    {
     "name": "stdout",
     "output_type": "stream",
     "text": [
      "Model: \"model_1\"\n",
      "__________________________________________________________________________________________________\n",
      " Layer (type)                Output Shape                 Param #   Connected to                  \n",
      "==================================================================================================\n",
      " input_2 (InputLayer)        [(None, 224, 224, 3)]        0         []                            \n",
      "                                                                                                  \n",
      " conv1_pad (ZeroPadding2D)   (None, 230, 230, 3)          0         ['input_2[0][0]']             \n",
      "                                                                                                  \n",
      " conv1_conv (Conv2D)         (None, 112, 112, 64)         9472      ['conv1_pad[0][0]']           \n",
      "                                                                                                  \n",
      " conv1_bn (BatchNormalizati  (None, 112, 112, 64)         256       ['conv1_conv[0][0]']          \n",
      " on)                                                                                              \n",
      "                                                                                                  \n",
      " conv1_relu (Activation)     (None, 112, 112, 64)         0         ['conv1_bn[0][0]']            \n",
      "                                                                                                  \n",
      " pool1_pad (ZeroPadding2D)   (None, 114, 114, 64)         0         ['conv1_relu[0][0]']          \n",
      "                                                                                                  \n",
      " pool1_pool (MaxPooling2D)   (None, 56, 56, 64)           0         ['pool1_pad[0][0]']           \n",
      "                                                                                                  \n",
      " conv2_block1_1_conv (Conv2  (None, 56, 56, 64)           4160      ['pool1_pool[0][0]']          \n",
      " D)                                                                                               \n",
      "                                                                                                  \n",
      " conv2_block1_1_bn (BatchNo  (None, 56, 56, 64)           256       ['conv2_block1_1_conv[0][0]'] \n",
      " rmalization)                                                                                     \n",
      "                                                                                                  \n",
      " conv2_block1_1_relu (Activ  (None, 56, 56, 64)           0         ['conv2_block1_1_bn[0][0]']   \n",
      " ation)                                                                                           \n",
      "                                                                                                  \n",
      " conv2_block1_2_conv (Conv2  (None, 56, 56, 64)           36928     ['conv2_block1_1_relu[0][0]'] \n",
      " D)                                                                                               \n",
      "                                                                                                  \n",
      " conv2_block1_2_bn (BatchNo  (None, 56, 56, 64)           256       ['conv2_block1_2_conv[0][0]'] \n",
      " rmalization)                                                                                     \n",
      "                                                                                                  \n",
      " conv2_block1_2_relu (Activ  (None, 56, 56, 64)           0         ['conv2_block1_2_bn[0][0]']   \n",
      " ation)                                                                                           \n",
      "                                                                                                  \n",
      " conv2_block1_0_conv (Conv2  (None, 56, 56, 256)          16640     ['pool1_pool[0][0]']          \n",
      " D)                                                                                               \n",
      "                                                                                                  \n",
      " conv2_block1_3_conv (Conv2  (None, 56, 56, 256)          16640     ['conv2_block1_2_relu[0][0]'] \n",
      " D)                                                                                               \n",
      "                                                                                                  \n",
      " conv2_block1_0_bn (BatchNo  (None, 56, 56, 256)          1024      ['conv2_block1_0_conv[0][0]'] \n",
      " rmalization)                                                                                     \n",
      "                                                                                                  \n",
      " conv2_block1_3_bn (BatchNo  (None, 56, 56, 256)          1024      ['conv2_block1_3_conv[0][0]'] \n",
      " rmalization)                                                                                     \n",
      "                                                                                                  \n",
      " conv2_block1_add (Add)      (None, 56, 56, 256)          0         ['conv2_block1_0_bn[0][0]',   \n",
      "                                                                     'conv2_block1_3_bn[0][0]']   \n",
      "                                                                                                  \n",
      " conv2_block1_out (Activati  (None, 56, 56, 256)          0         ['conv2_block1_add[0][0]']    \n",
      " on)                                                                                              \n",
      "                                                                                                  \n",
      " conv2_block2_1_conv (Conv2  (None, 56, 56, 64)           16448     ['conv2_block1_out[0][0]']    \n",
      " D)                                                                                               \n",
      "                                                                                                  \n",
      " conv2_block2_1_bn (BatchNo  (None, 56, 56, 64)           256       ['conv2_block2_1_conv[0][0]'] \n",
      " rmalization)                                                                                     \n",
      "                                                                                                  \n",
      " conv2_block2_1_relu (Activ  (None, 56, 56, 64)           0         ['conv2_block2_1_bn[0][0]']   \n",
      " ation)                                                                                           \n",
      "                                                                                                  \n",
      " conv2_block2_2_conv (Conv2  (None, 56, 56, 64)           36928     ['conv2_block2_1_relu[0][0]'] \n",
      " D)                                                                                               \n",
      "                                                                                                  \n",
      " conv2_block2_2_bn (BatchNo  (None, 56, 56, 64)           256       ['conv2_block2_2_conv[0][0]'] \n",
      " rmalization)                                                                                     \n",
      "                                                                                                  \n",
      " conv2_block2_2_relu (Activ  (None, 56, 56, 64)           0         ['conv2_block2_2_bn[0][0]']   \n",
      " ation)                                                                                           \n",
      "                                                                                                  \n",
      " conv2_block2_3_conv (Conv2  (None, 56, 56, 256)          16640     ['conv2_block2_2_relu[0][0]'] \n",
      " D)                                                                                               \n",
      "                                                                                                  \n",
      " conv2_block2_3_bn (BatchNo  (None, 56, 56, 256)          1024      ['conv2_block2_3_conv[0][0]'] \n",
      " rmalization)                                                                                     \n",
      "                                                                                                  \n",
      " conv2_block2_add (Add)      (None, 56, 56, 256)          0         ['conv2_block1_out[0][0]',    \n",
      "                                                                     'conv2_block2_3_bn[0][0]']   \n",
      "                                                                                                  \n",
      " conv2_block2_out (Activati  (None, 56, 56, 256)          0         ['conv2_block2_add[0][0]']    \n",
      " on)                                                                                              \n"
     ]
    },
    {
     "name": "stdout",
     "output_type": "stream",
     "text": [
      "                                                                                                  \n",
      " conv2_block3_1_conv (Conv2  (None, 56, 56, 64)           16448     ['conv2_block2_out[0][0]']    \n",
      " D)                                                                                               \n",
      "                                                                                                  \n",
      " conv2_block3_1_bn (BatchNo  (None, 56, 56, 64)           256       ['conv2_block3_1_conv[0][0]'] \n",
      " rmalization)                                                                                     \n",
      "                                                                                                  \n",
      " conv2_block3_1_relu (Activ  (None, 56, 56, 64)           0         ['conv2_block3_1_bn[0][0]']   \n",
      " ation)                                                                                           \n",
      "                                                                                                  \n",
      " conv2_block3_2_conv (Conv2  (None, 56, 56, 64)           36928     ['conv2_block3_1_relu[0][0]'] \n",
      " D)                                                                                               \n",
      "                                                                                                  \n",
      " conv2_block3_2_bn (BatchNo  (None, 56, 56, 64)           256       ['conv2_block3_2_conv[0][0]'] \n",
      " rmalization)                                                                                     \n",
      "                                                                                                  \n",
      " conv2_block3_2_relu (Activ  (None, 56, 56, 64)           0         ['conv2_block3_2_bn[0][0]']   \n",
      " ation)                                                                                           \n",
      "                                                                                                  \n",
      " conv2_block3_3_conv (Conv2  (None, 56, 56, 256)          16640     ['conv2_block3_2_relu[0][0]'] \n",
      " D)                                                                                               \n",
      "                                                                                                  \n",
      " conv2_block3_3_bn (BatchNo  (None, 56, 56, 256)          1024      ['conv2_block3_3_conv[0][0]'] \n",
      " rmalization)                                                                                     \n",
      "                                                                                                  \n",
      " conv2_block3_add (Add)      (None, 56, 56, 256)          0         ['conv2_block2_out[0][0]',    \n",
      "                                                                     'conv2_block3_3_bn[0][0]']   \n",
      "                                                                                                  \n",
      " conv2_block3_out (Activati  (None, 56, 56, 256)          0         ['conv2_block3_add[0][0]']    \n",
      " on)                                                                                              \n",
      "                                                                                                  \n",
      " conv3_block1_1_conv (Conv2  (None, 28, 28, 128)          32896     ['conv2_block3_out[0][0]']    \n",
      " D)                                                                                               \n",
      "                                                                                                  \n",
      " conv3_block1_1_bn (BatchNo  (None, 28, 28, 128)          512       ['conv3_block1_1_conv[0][0]'] \n",
      " rmalization)                                                                                     \n",
      "                                                                                                  \n",
      " conv3_block1_1_relu (Activ  (None, 28, 28, 128)          0         ['conv3_block1_1_bn[0][0]']   \n",
      " ation)                                                                                           \n",
      "                                                                                                  \n",
      " conv3_block1_2_conv (Conv2  (None, 28, 28, 128)          147584    ['conv3_block1_1_relu[0][0]'] \n",
      " D)                                                                                               \n",
      "                                                                                                  \n",
      " conv3_block1_2_bn (BatchNo  (None, 28, 28, 128)          512       ['conv3_block1_2_conv[0][0]'] \n",
      " rmalization)                                                                                     \n",
      "                                                                                                  \n",
      " conv3_block1_2_relu (Activ  (None, 28, 28, 128)          0         ['conv3_block1_2_bn[0][0]']   \n",
      " ation)                                                                                           \n",
      "                                                                                                  \n",
      " conv3_block1_0_conv (Conv2  (None, 28, 28, 512)          131584    ['conv2_block3_out[0][0]']    \n",
      " D)                                                                                               \n",
      "                                                                                                  \n",
      " conv3_block1_3_conv (Conv2  (None, 28, 28, 512)          66048     ['conv3_block1_2_relu[0][0]'] \n",
      " D)                                                                                               \n",
      "                                                                                                  \n",
      " conv3_block1_0_bn (BatchNo  (None, 28, 28, 512)          2048      ['conv3_block1_0_conv[0][0]'] \n",
      " rmalization)                                                                                     \n",
      "                                                                                                  \n",
      " conv3_block1_3_bn (BatchNo  (None, 28, 28, 512)          2048      ['conv3_block1_3_conv[0][0]'] \n",
      " rmalization)                                                                                     \n",
      "                                                                                                  \n",
      " conv3_block1_add (Add)      (None, 28, 28, 512)          0         ['conv3_block1_0_bn[0][0]',   \n",
      "                                                                     'conv3_block1_3_bn[0][0]']   \n",
      "                                                                                                  \n",
      " conv3_block1_out (Activati  (None, 28, 28, 512)          0         ['conv3_block1_add[0][0]']    \n",
      " on)                                                                                              \n",
      "                                                                                                  \n",
      " conv3_block2_1_conv (Conv2  (None, 28, 28, 128)          65664     ['conv3_block1_out[0][0]']    \n",
      " D)                                                                                               \n",
      "                                                                                                  \n",
      " conv3_block2_1_bn (BatchNo  (None, 28, 28, 128)          512       ['conv3_block2_1_conv[0][0]'] \n",
      " rmalization)                                                                                     \n",
      "                                                                                                  \n",
      " conv3_block2_1_relu (Activ  (None, 28, 28, 128)          0         ['conv3_block2_1_bn[0][0]']   \n",
      " ation)                                                                                           \n",
      "                                                                                                  \n",
      " conv3_block2_2_conv (Conv2  (None, 28, 28, 128)          147584    ['conv3_block2_1_relu[0][0]'] \n",
      " D)                                                                                               \n",
      "                                                                                                  \n",
      " conv3_block2_2_bn (BatchNo  (None, 28, 28, 128)          512       ['conv3_block2_2_conv[0][0]'] \n",
      " rmalization)                                                                                     \n",
      "                                                                                                  \n",
      " conv3_block2_2_relu (Activ  (None, 28, 28, 128)          0         ['conv3_block2_2_bn[0][0]']   \n"
     ]
    },
    {
     "name": "stdout",
     "output_type": "stream",
     "text": [
      " ation)                                                                                           \n",
      "                                                                                                  \n",
      " conv3_block2_3_conv (Conv2  (None, 28, 28, 512)          66048     ['conv3_block2_2_relu[0][0]'] \n",
      " D)                                                                                               \n",
      "                                                                                                  \n",
      " conv3_block2_3_bn (BatchNo  (None, 28, 28, 512)          2048      ['conv3_block2_3_conv[0][0]'] \n",
      " rmalization)                                                                                     \n",
      "                                                                                                  \n",
      " conv3_block2_add (Add)      (None, 28, 28, 512)          0         ['conv3_block1_out[0][0]',    \n",
      "                                                                     'conv3_block2_3_bn[0][0]']   \n",
      "                                                                                                  \n",
      " conv3_block2_out (Activati  (None, 28, 28, 512)          0         ['conv3_block2_add[0][0]']    \n",
      " on)                                                                                              \n",
      "                                                                                                  \n",
      " conv3_block3_1_conv (Conv2  (None, 28, 28, 128)          65664     ['conv3_block2_out[0][0]']    \n",
      " D)                                                                                               \n",
      "                                                                                                  \n",
      " conv3_block3_1_bn (BatchNo  (None, 28, 28, 128)          512       ['conv3_block3_1_conv[0][0]'] \n",
      " rmalization)                                                                                     \n",
      "                                                                                                  \n",
      " conv3_block3_1_relu (Activ  (None, 28, 28, 128)          0         ['conv3_block3_1_bn[0][0]']   \n",
      " ation)                                                                                           \n",
      "                                                                                                  \n",
      " conv3_block3_2_conv (Conv2  (None, 28, 28, 128)          147584    ['conv3_block3_1_relu[0][0]'] \n",
      " D)                                                                                               \n",
      "                                                                                                  \n",
      " conv3_block3_2_bn (BatchNo  (None, 28, 28, 128)          512       ['conv3_block3_2_conv[0][0]'] \n",
      " rmalization)                                                                                     \n",
      "                                                                                                  \n",
      " conv3_block3_2_relu (Activ  (None, 28, 28, 128)          0         ['conv3_block3_2_bn[0][0]']   \n",
      " ation)                                                                                           \n",
      "                                                                                                  \n",
      " conv3_block3_3_conv (Conv2  (None, 28, 28, 512)          66048     ['conv3_block3_2_relu[0][0]'] \n",
      " D)                                                                                               \n",
      "                                                                                                  \n",
      " conv3_block3_3_bn (BatchNo  (None, 28, 28, 512)          2048      ['conv3_block3_3_conv[0][0]'] \n",
      " rmalization)                                                                                     \n",
      "                                                                                                  \n",
      " conv3_block3_add (Add)      (None, 28, 28, 512)          0         ['conv3_block2_out[0][0]',    \n",
      "                                                                     'conv3_block3_3_bn[0][0]']   \n",
      "                                                                                                  \n",
      " conv3_block3_out (Activati  (None, 28, 28, 512)          0         ['conv3_block3_add[0][0]']    \n",
      " on)                                                                                              \n",
      "                                                                                                  \n",
      " conv3_block4_1_conv (Conv2  (None, 28, 28, 128)          65664     ['conv3_block3_out[0][0]']    \n",
      " D)                                                                                               \n",
      "                                                                                                  \n",
      " conv3_block4_1_bn (BatchNo  (None, 28, 28, 128)          512       ['conv3_block4_1_conv[0][0]'] \n",
      " rmalization)                                                                                     \n",
      "                                                                                                  \n",
      " conv3_block4_1_relu (Activ  (None, 28, 28, 128)          0         ['conv3_block4_1_bn[0][0]']   \n",
      " ation)                                                                                           \n",
      "                                                                                                  \n",
      " conv3_block4_2_conv (Conv2  (None, 28, 28, 128)          147584    ['conv3_block4_1_relu[0][0]'] \n",
      " D)                                                                                               \n",
      "                                                                                                  \n",
      " conv3_block4_2_bn (BatchNo  (None, 28, 28, 128)          512       ['conv3_block4_2_conv[0][0]'] \n",
      " rmalization)                                                                                     \n",
      "                                                                                                  \n",
      " conv3_block4_2_relu (Activ  (None, 28, 28, 128)          0         ['conv3_block4_2_bn[0][0]']   \n",
      " ation)                                                                                           \n",
      "                                                                                                  \n",
      " conv3_block4_3_conv (Conv2  (None, 28, 28, 512)          66048     ['conv3_block4_2_relu[0][0]'] \n",
      " D)                                                                                               \n",
      "                                                                                                  \n",
      " conv3_block4_3_bn (BatchNo  (None, 28, 28, 512)          2048      ['conv3_block4_3_conv[0][0]'] \n",
      " rmalization)                                                                                     \n",
      "                                                                                                  \n",
      " conv3_block4_add (Add)      (None, 28, 28, 512)          0         ['conv3_block3_out[0][0]',    \n",
      "                                                                     'conv3_block4_3_bn[0][0]']   \n",
      "                                                                                                  \n",
      " conv3_block4_out (Activati  (None, 28, 28, 512)          0         ['conv3_block4_add[0][0]']    \n",
      " on)                                                                                              \n",
      "                                                                                                  \n",
      " conv4_block1_1_conv (Conv2  (None, 14, 14, 256)          131328    ['conv3_block4_out[0][0]']    \n",
      " D)                                                                                               \n",
      "                                                                                                  \n",
      " conv4_block1_1_bn (BatchNo  (None, 14, 14, 256)          1024      ['conv4_block1_1_conv[0][0]'] \n",
      " rmalization)                                                                                     \n",
      "                                                                                                  \n",
      " conv4_block1_1_relu (Activ  (None, 14, 14, 256)          0         ['conv4_block1_1_bn[0][0]']   \n",
      " ation)                                                                                           \n",
      "                                                                                                  \n"
     ]
    },
    {
     "name": "stdout",
     "output_type": "stream",
     "text": [
      " conv4_block1_2_conv (Conv2  (None, 14, 14, 256)          590080    ['conv4_block1_1_relu[0][0]'] \n",
      " D)                                                                                               \n",
      "                                                                                                  \n",
      " conv4_block1_2_bn (BatchNo  (None, 14, 14, 256)          1024      ['conv4_block1_2_conv[0][0]'] \n",
      " rmalization)                                                                                     \n",
      "                                                                                                  \n",
      " conv4_block1_2_relu (Activ  (None, 14, 14, 256)          0         ['conv4_block1_2_bn[0][0]']   \n",
      " ation)                                                                                           \n",
      "                                                                                                  \n",
      " conv4_block1_0_conv (Conv2  (None, 14, 14, 1024)         525312    ['conv3_block4_out[0][0]']    \n",
      " D)                                                                                               \n",
      "                                                                                                  \n",
      " conv4_block1_3_conv (Conv2  (None, 14, 14, 1024)         263168    ['conv4_block1_2_relu[0][0]'] \n",
      " D)                                                                                               \n",
      "                                                                                                  \n",
      " conv4_block1_0_bn (BatchNo  (None, 14, 14, 1024)         4096      ['conv4_block1_0_conv[0][0]'] \n",
      " rmalization)                                                                                     \n",
      "                                                                                                  \n",
      " conv4_block1_3_bn (BatchNo  (None, 14, 14, 1024)         4096      ['conv4_block1_3_conv[0][0]'] \n",
      " rmalization)                                                                                     \n",
      "                                                                                                  \n",
      " conv4_block1_add (Add)      (None, 14, 14, 1024)         0         ['conv4_block1_0_bn[0][0]',   \n",
      "                                                                     'conv4_block1_3_bn[0][0]']   \n",
      "                                                                                                  \n",
      " conv4_block1_out (Activati  (None, 14, 14, 1024)         0         ['conv4_block1_add[0][0]']    \n",
      " on)                                                                                              \n",
      "                                                                                                  \n",
      " conv4_block2_1_conv (Conv2  (None, 14, 14, 256)          262400    ['conv4_block1_out[0][0]']    \n",
      " D)                                                                                               \n",
      "                                                                                                  \n",
      " conv4_block2_1_bn (BatchNo  (None, 14, 14, 256)          1024      ['conv4_block2_1_conv[0][0]'] \n",
      " rmalization)                                                                                     \n",
      "                                                                                                  \n",
      " conv4_block2_1_relu (Activ  (None, 14, 14, 256)          0         ['conv4_block2_1_bn[0][0]']   \n",
      " ation)                                                                                           \n",
      "                                                                                                  \n",
      " conv4_block2_2_conv (Conv2  (None, 14, 14, 256)          590080    ['conv4_block2_1_relu[0][0]'] \n",
      " D)                                                                                               \n",
      "                                                                                                  \n",
      " conv4_block2_2_bn (BatchNo  (None, 14, 14, 256)          1024      ['conv4_block2_2_conv[0][0]'] \n",
      " rmalization)                                                                                     \n",
      "                                                                                                  \n",
      " conv4_block2_2_relu (Activ  (None, 14, 14, 256)          0         ['conv4_block2_2_bn[0][0]']   \n",
      " ation)                                                                                           \n",
      "                                                                                                  \n",
      " conv4_block2_3_conv (Conv2  (None, 14, 14, 1024)         263168    ['conv4_block2_2_relu[0][0]'] \n",
      " D)                                                                                               \n",
      "                                                                                                  \n",
      " conv4_block2_3_bn (BatchNo  (None, 14, 14, 1024)         4096      ['conv4_block2_3_conv[0][0]'] \n",
      " rmalization)                                                                                     \n",
      "                                                                                                  \n",
      " conv4_block2_add (Add)      (None, 14, 14, 1024)         0         ['conv4_block1_out[0][0]',    \n",
      "                                                                     'conv4_block2_3_bn[0][0]']   \n",
      "                                                                                                  \n",
      " conv4_block2_out (Activati  (None, 14, 14, 1024)         0         ['conv4_block2_add[0][0]']    \n",
      " on)                                                                                              \n",
      "                                                                                                  \n",
      " conv4_block3_1_conv (Conv2  (None, 14, 14, 256)          262400    ['conv4_block2_out[0][0]']    \n",
      " D)                                                                                               \n",
      "                                                                                                  \n",
      " conv4_block3_1_bn (BatchNo  (None, 14, 14, 256)          1024      ['conv4_block3_1_conv[0][0]'] \n",
      " rmalization)                                                                                     \n",
      "                                                                                                  \n",
      " conv4_block3_1_relu (Activ  (None, 14, 14, 256)          0         ['conv4_block3_1_bn[0][0]']   \n",
      " ation)                                                                                           \n",
      "                                                                                                  \n",
      " conv4_block3_2_conv (Conv2  (None, 14, 14, 256)          590080    ['conv4_block3_1_relu[0][0]'] \n",
      " D)                                                                                               \n",
      "                                                                                                  \n",
      " conv4_block3_2_bn (BatchNo  (None, 14, 14, 256)          1024      ['conv4_block3_2_conv[0][0]'] \n",
      " rmalization)                                                                                     \n",
      "                                                                                                  \n",
      " conv4_block3_2_relu (Activ  (None, 14, 14, 256)          0         ['conv4_block3_2_bn[0][0]']   \n",
      " ation)                                                                                           \n",
      "                                                                                                  \n",
      " conv4_block3_3_conv (Conv2  (None, 14, 14, 1024)         263168    ['conv4_block3_2_relu[0][0]'] \n",
      " D)                                                                                               \n",
      "                                                                                                  \n",
      " conv4_block3_3_bn (BatchNo  (None, 14, 14, 1024)         4096      ['conv4_block3_3_conv[0][0]'] \n",
      " rmalization)                                                                                     \n",
      "                                                                                                  \n",
      " conv4_block3_add (Add)      (None, 14, 14, 1024)         0         ['conv4_block2_out[0][0]',    \n",
      "                                                                     'conv4_block3_3_bn[0][0]']   \n"
     ]
    },
    {
     "name": "stdout",
     "output_type": "stream",
     "text": [
      "                                                                                                  \n",
      " conv4_block3_out (Activati  (None, 14, 14, 1024)         0         ['conv4_block3_add[0][0]']    \n",
      " on)                                                                                              \n",
      "                                                                                                  \n",
      " conv4_block4_1_conv (Conv2  (None, 14, 14, 256)          262400    ['conv4_block3_out[0][0]']    \n",
      " D)                                                                                               \n",
      "                                                                                                  \n",
      " conv4_block4_1_bn (BatchNo  (None, 14, 14, 256)          1024      ['conv4_block4_1_conv[0][0]'] \n",
      " rmalization)                                                                                     \n",
      "                                                                                                  \n",
      " conv4_block4_1_relu (Activ  (None, 14, 14, 256)          0         ['conv4_block4_1_bn[0][0]']   \n",
      " ation)                                                                                           \n",
      "                                                                                                  \n",
      " conv4_block4_2_conv (Conv2  (None, 14, 14, 256)          590080    ['conv4_block4_1_relu[0][0]'] \n",
      " D)                                                                                               \n",
      "                                                                                                  \n",
      " conv4_block4_2_bn (BatchNo  (None, 14, 14, 256)          1024      ['conv4_block4_2_conv[0][0]'] \n",
      " rmalization)                                                                                     \n",
      "                                                                                                  \n",
      " conv4_block4_2_relu (Activ  (None, 14, 14, 256)          0         ['conv4_block4_2_bn[0][0]']   \n",
      " ation)                                                                                           \n",
      "                                                                                                  \n",
      " conv4_block4_3_conv (Conv2  (None, 14, 14, 1024)         263168    ['conv4_block4_2_relu[0][0]'] \n",
      " D)                                                                                               \n",
      "                                                                                                  \n",
      " conv4_block4_3_bn (BatchNo  (None, 14, 14, 1024)         4096      ['conv4_block4_3_conv[0][0]'] \n",
      " rmalization)                                                                                     \n",
      "                                                                                                  \n",
      " conv4_block4_add (Add)      (None, 14, 14, 1024)         0         ['conv4_block3_out[0][0]',    \n",
      "                                                                     'conv4_block4_3_bn[0][0]']   \n",
      "                                                                                                  \n",
      " conv4_block4_out (Activati  (None, 14, 14, 1024)         0         ['conv4_block4_add[0][0]']    \n",
      " on)                                                                                              \n",
      "                                                                                                  \n",
      " conv4_block5_1_conv (Conv2  (None, 14, 14, 256)          262400    ['conv4_block4_out[0][0]']    \n",
      " D)                                                                                               \n",
      "                                                                                                  \n",
      " conv4_block5_1_bn (BatchNo  (None, 14, 14, 256)          1024      ['conv4_block5_1_conv[0][0]'] \n",
      " rmalization)                                                                                     \n",
      "                                                                                                  \n",
      " conv4_block5_1_relu (Activ  (None, 14, 14, 256)          0         ['conv4_block5_1_bn[0][0]']   \n",
      " ation)                                                                                           \n",
      "                                                                                                  \n",
      " conv4_block5_2_conv (Conv2  (None, 14, 14, 256)          590080    ['conv4_block5_1_relu[0][0]'] \n",
      " D)                                                                                               \n",
      "                                                                                                  \n",
      " conv4_block5_2_bn (BatchNo  (None, 14, 14, 256)          1024      ['conv4_block5_2_conv[0][0]'] \n",
      " rmalization)                                                                                     \n",
      "                                                                                                  \n",
      " conv4_block5_2_relu (Activ  (None, 14, 14, 256)          0         ['conv4_block5_2_bn[0][0]']   \n",
      " ation)                                                                                           \n",
      "                                                                                                  \n",
      " conv4_block5_3_conv (Conv2  (None, 14, 14, 1024)         263168    ['conv4_block5_2_relu[0][0]'] \n",
      " D)                                                                                               \n",
      "                                                                                                  \n",
      " conv4_block5_3_bn (BatchNo  (None, 14, 14, 1024)         4096      ['conv4_block5_3_conv[0][0]'] \n",
      " rmalization)                                                                                     \n",
      "                                                                                                  \n",
      " conv4_block5_add (Add)      (None, 14, 14, 1024)         0         ['conv4_block4_out[0][0]',    \n",
      "                                                                     'conv4_block5_3_bn[0][0]']   \n",
      "                                                                                                  \n",
      " conv4_block5_out (Activati  (None, 14, 14, 1024)         0         ['conv4_block5_add[0][0]']    \n",
      " on)                                                                                              \n",
      "                                                                                                  \n",
      " conv4_block6_1_conv (Conv2  (None, 14, 14, 256)          262400    ['conv4_block5_out[0][0]']    \n",
      " D)                                                                                               \n",
      "                                                                                                  \n",
      " conv4_block6_1_bn (BatchNo  (None, 14, 14, 256)          1024      ['conv4_block6_1_conv[0][0]'] \n",
      " rmalization)                                                                                     \n",
      "                                                                                                  \n",
      " conv4_block6_1_relu (Activ  (None, 14, 14, 256)          0         ['conv4_block6_1_bn[0][0]']   \n",
      " ation)                                                                                           \n",
      "                                                                                                  \n",
      " conv4_block6_2_conv (Conv2  (None, 14, 14, 256)          590080    ['conv4_block6_1_relu[0][0]'] \n",
      " D)                                                                                               \n",
      "                                                                                                  \n",
      " conv4_block6_2_bn (BatchNo  (None, 14, 14, 256)          1024      ['conv4_block6_2_conv[0][0]'] \n",
      " rmalization)                                                                                     \n",
      "                                                                                                  \n",
      " conv4_block6_2_relu (Activ  (None, 14, 14, 256)          0         ['conv4_block6_2_bn[0][0]']   \n",
      " ation)                                                                                           \n",
      "                                                                                                  \n",
      " conv4_block6_3_conv (Conv2  (None, 14, 14, 1024)         263168    ['conv4_block6_2_relu[0][0]'] \n"
     ]
    },
    {
     "name": "stdout",
     "output_type": "stream",
     "text": [
      " D)                                                                                               \n",
      "                                                                                                  \n",
      " conv4_block6_3_bn (BatchNo  (None, 14, 14, 1024)         4096      ['conv4_block6_3_conv[0][0]'] \n",
      " rmalization)                                                                                     \n",
      "                                                                                                  \n",
      " conv4_block6_add (Add)      (None, 14, 14, 1024)         0         ['conv4_block5_out[0][0]',    \n",
      "                                                                     'conv4_block6_3_bn[0][0]']   \n",
      "                                                                                                  \n",
      " conv4_block6_out (Activati  (None, 14, 14, 1024)         0         ['conv4_block6_add[0][0]']    \n",
      " on)                                                                                              \n",
      "                                                                                                  \n",
      " conv5_block1_1_conv (Conv2  (None, 7, 7, 512)            524800    ['conv4_block6_out[0][0]']    \n",
      " D)                                                                                               \n",
      "                                                                                                  \n",
      " conv5_block1_1_bn (BatchNo  (None, 7, 7, 512)            2048      ['conv5_block1_1_conv[0][0]'] \n",
      " rmalization)                                                                                     \n",
      "                                                                                                  \n",
      " conv5_block1_1_relu (Activ  (None, 7, 7, 512)            0         ['conv5_block1_1_bn[0][0]']   \n",
      " ation)                                                                                           \n",
      "                                                                                                  \n",
      " conv5_block1_2_conv (Conv2  (None, 7, 7, 512)            2359808   ['conv5_block1_1_relu[0][0]'] \n",
      " D)                                                                                               \n",
      "                                                                                                  \n",
      " conv5_block1_2_bn (BatchNo  (None, 7, 7, 512)            2048      ['conv5_block1_2_conv[0][0]'] \n",
      " rmalization)                                                                                     \n",
      "                                                                                                  \n",
      " conv5_block1_2_relu (Activ  (None, 7, 7, 512)            0         ['conv5_block1_2_bn[0][0]']   \n",
      " ation)                                                                                           \n",
      "                                                                                                  \n",
      " conv5_block1_0_conv (Conv2  (None, 7, 7, 2048)           2099200   ['conv4_block6_out[0][0]']    \n",
      " D)                                                                                               \n",
      "                                                                                                  \n",
      " conv5_block1_3_conv (Conv2  (None, 7, 7, 2048)           1050624   ['conv5_block1_2_relu[0][0]'] \n",
      " D)                                                                                               \n",
      "                                                                                                  \n",
      " conv5_block1_0_bn (BatchNo  (None, 7, 7, 2048)           8192      ['conv5_block1_0_conv[0][0]'] \n",
      " rmalization)                                                                                     \n",
      "                                                                                                  \n",
      " conv5_block1_3_bn (BatchNo  (None, 7, 7, 2048)           8192      ['conv5_block1_3_conv[0][0]'] \n",
      " rmalization)                                                                                     \n",
      "                                                                                                  \n",
      " conv5_block1_add (Add)      (None, 7, 7, 2048)           0         ['conv5_block1_0_bn[0][0]',   \n",
      "                                                                     'conv5_block1_3_bn[0][0]']   \n",
      "                                                                                                  \n",
      " conv5_block1_out (Activati  (None, 7, 7, 2048)           0         ['conv5_block1_add[0][0]']    \n",
      " on)                                                                                              \n",
      "                                                                                                  \n",
      " conv5_block2_1_conv (Conv2  (None, 7, 7, 512)            1049088   ['conv5_block1_out[0][0]']    \n",
      " D)                                                                                               \n",
      "                                                                                                  \n",
      " conv5_block2_1_bn (BatchNo  (None, 7, 7, 512)            2048      ['conv5_block2_1_conv[0][0]'] \n",
      " rmalization)                                                                                     \n",
      "                                                                                                  \n",
      " conv5_block2_1_relu (Activ  (None, 7, 7, 512)            0         ['conv5_block2_1_bn[0][0]']   \n",
      " ation)                                                                                           \n",
      "                                                                                                  \n",
      " conv5_block2_2_conv (Conv2  (None, 7, 7, 512)            2359808   ['conv5_block2_1_relu[0][0]'] \n",
      " D)                                                                                               \n",
      "                                                                                                  \n",
      " conv5_block2_2_bn (BatchNo  (None, 7, 7, 512)            2048      ['conv5_block2_2_conv[0][0]'] \n",
      " rmalization)                                                                                     \n",
      "                                                                                                  \n",
      " conv5_block2_2_relu (Activ  (None, 7, 7, 512)            0         ['conv5_block2_2_bn[0][0]']   \n",
      " ation)                                                                                           \n",
      "                                                                                                  \n",
      " conv5_block2_3_conv (Conv2  (None, 7, 7, 2048)           1050624   ['conv5_block2_2_relu[0][0]'] \n",
      " D)                                                                                               \n",
      "                                                                                                  \n",
      " conv5_block2_3_bn (BatchNo  (None, 7, 7, 2048)           8192      ['conv5_block2_3_conv[0][0]'] \n",
      " rmalization)                                                                                     \n",
      "                                                                                                  \n",
      " conv5_block2_add (Add)      (None, 7, 7, 2048)           0         ['conv5_block1_out[0][0]',    \n",
      "                                                                     'conv5_block2_3_bn[0][0]']   \n",
      "                                                                                                  \n",
      " conv5_block2_out (Activati  (None, 7, 7, 2048)           0         ['conv5_block2_add[0][0]']    \n",
      " on)                                                                                              \n",
      "                                                                                                  \n",
      " conv5_block3_1_conv (Conv2  (None, 7, 7, 512)            1049088   ['conv5_block2_out[0][0]']    \n",
      " D)                                                                                               \n",
      "                                                                                                  \n",
      " conv5_block3_1_bn (BatchNo  (None, 7, 7, 512)            2048      ['conv5_block3_1_conv[0][0]'] \n",
      " rmalization)                                                                                     \n",
      "                                                                                                  \n"
     ]
    },
    {
     "name": "stdout",
     "output_type": "stream",
     "text": [
      " conv5_block3_1_relu (Activ  (None, 7, 7, 512)            0         ['conv5_block3_1_bn[0][0]']   \n",
      " ation)                                                                                           \n",
      "                                                                                                  \n",
      " conv5_block3_2_conv (Conv2  (None, 7, 7, 512)            2359808   ['conv5_block3_1_relu[0][0]'] \n",
      " D)                                                                                               \n",
      "                                                                                                  \n",
      " conv5_block3_2_bn (BatchNo  (None, 7, 7, 512)            2048      ['conv5_block3_2_conv[0][0]'] \n",
      " rmalization)                                                                                     \n",
      "                                                                                                  \n",
      " conv5_block3_2_relu (Activ  (None, 7, 7, 512)            0         ['conv5_block3_2_bn[0][0]']   \n",
      " ation)                                                                                           \n",
      "                                                                                                  \n",
      " conv5_block3_3_conv (Conv2  (None, 7, 7, 2048)           1050624   ['conv5_block3_2_relu[0][0]'] \n",
      " D)                                                                                               \n",
      "                                                                                                  \n",
      " conv5_block3_3_bn (BatchNo  (None, 7, 7, 2048)           8192      ['conv5_block3_3_conv[0][0]'] \n",
      " rmalization)                                                                                     \n",
      "                                                                                                  \n",
      " conv5_block3_add (Add)      (None, 7, 7, 2048)           0         ['conv5_block2_out[0][0]',    \n",
      "                                                                     'conv5_block3_3_bn[0][0]']   \n",
      "                                                                                                  \n",
      " conv5_block3_out (Activati  (None, 7, 7, 2048)           0         ['conv5_block3_add[0][0]']    \n",
      " on)                                                                                              \n",
      "                                                                                                  \n",
      " flatten_1 (Flatten)         (None, 100352)               0         ['conv5_block3_out[0][0]']    \n",
      "                                                                                                  \n",
      " dense_1 (Dense)             (None, 3)                    301059    ['flatten_1[0][0]']           \n",
      "                                                                                                  \n",
      "==================================================================================================\n",
      "Total params: 23888771 (91.13 MB)\n",
      "Trainable params: 301059 (1.15 MB)\n",
      "Non-trainable params: 23587712 (89.98 MB)\n",
      "__________________________________________________________________________________________________\n"
     ]
    }
   ],
   "source": [
    "# view the structure of the model\n",
    "model.summary()"
   ]
  },
  {
   "cell_type": "code",
   "execution_count": 23,
   "id": "0c97093f",
   "metadata": {},
   "outputs": [],
   "source": [
    "# tell the model what cost and optimization method to use\n",
    "model.compile(\n",
    "  loss='categorical_crossentropy',\n",
    "  optimizer='adam',\n",
    "  metrics=['accuracy']\n",
    ")"
   ]
  },
  {
   "cell_type": "code",
   "execution_count": 24,
   "id": "214408d1",
   "metadata": {},
   "outputs": [],
   "source": [
    "# Use the Image Data Generator to import the images from the dataset\n",
    "from tensorflow.keras.preprocessing.image import ImageDataGenerator\n",
    "\n",
    "train_datagen = ImageDataGenerator(rescale = 1./255,\n",
    "                                   shear_range = 0.2,\n",
    "                                   zoom_range = 0.2,\n",
    "                                   horizontal_flip = True)\n",
    "\n",
    "test_datagen = ImageDataGenerator(rescale = 1./255)"
   ]
  },
  {
   "cell_type": "code",
   "execution_count": 25,
   "id": "1edda12a",
   "metadata": {},
   "outputs": [
    {
     "name": "stdout",
     "output_type": "stream",
     "text": [
      "Found 64 images belonging to 3 classes.\n"
     ]
    }
   ],
   "source": [
    "# Make sure you provide the same target size as initialied for the image size\n",
    "training_set = train_datagen.flow_from_directory('D:\\panda\\Deep-Learning-Car-Brand\\CarBrand_Train',\n",
    "                                                 target_size = (224, 224),\n",
    "                                                 batch_size = 32,\n",
    "                                                 class_mode = 'categorical')"
   ]
  },
  {
   "cell_type": "code",
   "execution_count": 27,
   "id": "32934150",
   "metadata": {
    "scrolled": true
   },
   "outputs": [
    {
     "name": "stdout",
     "output_type": "stream",
     "text": [
      "Found 58 images belonging to 3 classes.\n"
     ]
    }
   ],
   "source": [
    "test_set = test_datagen.flow_from_directory('D:\\panda\\Deep-Learning-Car-Brand\\CarBrand_Test',\n",
    "                                            target_size = (224, 224),\n",
    "                                            batch_size = 32,\n",
    "                                            class_mode = 'categorical')"
   ]
  },
  {
   "cell_type": "code",
   "execution_count": 28,
   "id": "7b4a7387",
   "metadata": {},
   "outputs": [
    {
     "name": "stdout",
     "output_type": "stream",
     "text": [
      "Epoch 1/50\n",
      "WARNING:tensorflow:From C:\\Users\\abhin\\AppData\\Roaming\\Python\\Python310\\site-packages\\keras\\src\\utils\\tf_utils.py:492: The name tf.ragged.RaggedTensorValue is deprecated. Please use tf.compat.v1.ragged.RaggedTensorValue instead.\n",
      "\n",
      "WARNING:tensorflow:From C:\\Users\\abhin\\AppData\\Roaming\\Python\\Python310\\site-packages\\keras\\src\\engine\\base_layer_utils.py:384: The name tf.executing_eagerly_outside_functions is deprecated. Please use tf.compat.v1.executing_eagerly_outside_functions instead.\n",
      "\n",
      "2/2 [==============================] - 11s 5s/step - loss: 6.7578 - accuracy: 0.2344 - val_loss: 7.5801 - val_accuracy: 0.1552\n",
      "Epoch 2/50\n",
      "2/2 [==============================] - 5s 4s/step - loss: 5.4965 - accuracy: 0.3281 - val_loss: 2.7508 - val_accuracy: 0.3276\n",
      "Epoch 3/50\n",
      "2/2 [==============================] - 6s 4s/step - loss: 2.9419 - accuracy: 0.3906 - val_loss: 2.4434 - val_accuracy: 0.3966\n",
      "Epoch 4/50\n",
      "2/2 [==============================] - 6s 4s/step - loss: 1.7918 - accuracy: 0.4844 - val_loss: 1.7274 - val_accuracy: 0.5172\n",
      "Epoch 5/50\n",
      "2/2 [==============================] - 6s 4s/step - loss: 1.9690 - accuracy: 0.5312 - val_loss: 1.2902 - val_accuracy: 0.5690\n",
      "Epoch 6/50\n",
      "2/2 [==============================] - 6s 4s/step - loss: 0.8886 - accuracy: 0.6406 - val_loss: 2.6718 - val_accuracy: 0.3448\n",
      "Epoch 7/50\n",
      "2/2 [==============================] - 6s 4s/step - loss: 1.5206 - accuracy: 0.5312 - val_loss: 1.9424 - val_accuracy: 0.3276\n",
      "Epoch 8/50\n",
      "2/2 [==============================] - 6s 4s/step - loss: 1.1669 - accuracy: 0.5312 - val_loss: 1.4673 - val_accuracy: 0.5862\n",
      "Epoch 9/50\n",
      "2/2 [==============================] - 6s 4s/step - loss: 1.2095 - accuracy: 0.5625 - val_loss: 1.0638 - val_accuracy: 0.5690\n",
      "Epoch 10/50\n",
      "2/2 [==============================] - 6s 4s/step - loss: 0.9166 - accuracy: 0.6094 - val_loss: 1.9472 - val_accuracy: 0.3966\n",
      "Epoch 11/50\n",
      "2/2 [==============================] - 6s 4s/step - loss: 1.0350 - accuracy: 0.6406 - val_loss: 1.3350 - val_accuracy: 0.5172\n",
      "Epoch 12/50\n",
      "2/2 [==============================] - 6s 4s/step - loss: 0.6976 - accuracy: 0.6094 - val_loss: 1.1863 - val_accuracy: 0.5862\n",
      "Epoch 13/50\n",
      "2/2 [==============================] - 6s 4s/step - loss: 0.8527 - accuracy: 0.5938 - val_loss: 0.9826 - val_accuracy: 0.5517\n",
      "Epoch 14/50\n",
      "2/2 [==============================] - 6s 4s/step - loss: 0.5986 - accuracy: 0.7656 - val_loss: 1.3909 - val_accuracy: 0.5172\n",
      "Epoch 15/50\n",
      "2/2 [==============================] - 8s 6s/step - loss: 0.5894 - accuracy: 0.7500 - val_loss: 0.9046 - val_accuracy: 0.6207\n",
      "Epoch 16/50\n",
      "2/2 [==============================] - 9s 6s/step - loss: 0.5644 - accuracy: 0.7656 - val_loss: 0.9596 - val_accuracy: 0.6552\n",
      "Epoch 17/50\n",
      "2/2 [==============================] - 10s 6s/step - loss: 0.5138 - accuracy: 0.7188 - val_loss: 0.9643 - val_accuracy: 0.6379\n",
      "Epoch 18/50\n",
      "2/2 [==============================] - 8s 5s/step - loss: 0.5894 - accuracy: 0.7656 - val_loss: 1.0434 - val_accuracy: 0.6034\n",
      "Epoch 19/50\n",
      "2/2 [==============================] - 7s 5s/step - loss: 0.3949 - accuracy: 0.8438 - val_loss: 1.0064 - val_accuracy: 0.6724\n",
      "Epoch 20/50\n",
      "2/2 [==============================] - 7s 5s/step - loss: 0.5268 - accuracy: 0.7656 - val_loss: 0.8598 - val_accuracy: 0.6552\n",
      "Epoch 21/50\n",
      "2/2 [==============================] - 7s 5s/step - loss: 0.3871 - accuracy: 0.8438 - val_loss: 1.0518 - val_accuracy: 0.6379\n",
      "Epoch 22/50\n",
      "2/2 [==============================] - 7s 5s/step - loss: 0.4266 - accuracy: 0.8281 - val_loss: 0.9461 - val_accuracy: 0.6552\n",
      "Epoch 23/50\n",
      "2/2 [==============================] - 6s 5s/step - loss: 0.3570 - accuracy: 0.8438 - val_loss: 0.9005 - val_accuracy: 0.7241\n",
      "Epoch 24/50\n",
      "2/2 [==============================] - 7s 5s/step - loss: 0.4872 - accuracy: 0.7656 - val_loss: 0.8549 - val_accuracy: 0.6897\n",
      "Epoch 25/50\n",
      "2/2 [==============================] - 6s 4s/step - loss: 0.3598 - accuracy: 0.9219 - val_loss: 1.1160 - val_accuracy: 0.5690\n",
      "Epoch 26/50\n",
      "2/2 [==============================] - 6s 4s/step - loss: 0.4551 - accuracy: 0.8125 - val_loss: 0.8726 - val_accuracy: 0.7069\n",
      "Epoch 27/50\n",
      "2/2 [==============================] - 6s 4s/step - loss: 0.4573 - accuracy: 0.8125 - val_loss: 0.8915 - val_accuracy: 0.7414\n",
      "Epoch 28/50\n",
      "2/2 [==============================] - 6s 5s/step - loss: 0.2955 - accuracy: 0.8750 - val_loss: 0.9401 - val_accuracy: 0.6379\n",
      "Epoch 29/50\n",
      "2/2 [==============================] - 7s 5s/step - loss: 0.3418 - accuracy: 0.8438 - val_loss: 0.9419 - val_accuracy: 0.6379\n",
      "Epoch 30/50\n",
      "2/2 [==============================] - 7s 5s/step - loss: 0.3496 - accuracy: 0.8750 - val_loss: 0.8638 - val_accuracy: 0.7241\n",
      "Epoch 31/50\n",
      "2/2 [==============================] - 6s 4s/step - loss: 0.3027 - accuracy: 0.8750 - val_loss: 0.8447 - val_accuracy: 0.7759\n",
      "Epoch 32/50\n",
      "2/2 [==============================] - 6s 4s/step - loss: 0.2964 - accuracy: 0.9062 - val_loss: 0.9273 - val_accuracy: 0.6379\n",
      "Epoch 33/50\n",
      "2/2 [==============================] - 6s 4s/step - loss: 0.3133 - accuracy: 0.8750 - val_loss: 0.9265 - val_accuracy: 0.6379\n",
      "Epoch 34/50\n",
      "2/2 [==============================] - 6s 4s/step - loss: 0.2963 - accuracy: 0.8906 - val_loss: 0.8832 - val_accuracy: 0.7586\n",
      "Epoch 35/50\n",
      "2/2 [==============================] - 6s 4s/step - loss: 0.2507 - accuracy: 0.9219 - val_loss: 0.8887 - val_accuracy: 0.6897\n",
      "Epoch 36/50\n",
      "2/2 [==============================] - 7s 4s/step - loss: 0.2685 - accuracy: 0.9375 - val_loss: 0.8826 - val_accuracy: 0.7414\n",
      "Epoch 37/50\n",
      "2/2 [==============================] - 6s 5s/step - loss: 0.2461 - accuracy: 0.9062 - val_loss: 0.8700 - val_accuracy: 0.7586\n",
      "Epoch 38/50\n",
      "2/2 [==============================] - 6s 5s/step - loss: 0.2294 - accuracy: 0.9688 - val_loss: 0.8642 - val_accuracy: 0.7759\n",
      "Epoch 39/50\n",
      "2/2 [==============================] - 7s 5s/step - loss: 0.2278 - accuracy: 0.9531 - val_loss: 0.8621 - val_accuracy: 0.7931\n",
      "Epoch 40/50\n",
      "2/2 [==============================] - 7s 5s/step - loss: 0.2525 - accuracy: 0.9062 - val_loss: 0.9182 - val_accuracy: 0.6034\n",
      "Epoch 41/50\n",
      "2/2 [==============================] - 6s 4s/step - loss: 0.2345 - accuracy: 0.9375 - val_loss: 0.8575 - val_accuracy: 0.7931\n",
      "Epoch 42/50\n",
      "2/2 [==============================] - 7s 5s/step - loss: 0.1951 - accuracy: 0.9531 - val_loss: 0.8629 - val_accuracy: 0.7759\n",
      "Epoch 43/50\n",
      "2/2 [==============================] - 7s 5s/step - loss: 0.2378 - accuracy: 0.9531 - val_loss: 0.9247 - val_accuracy: 0.6724\n",
      "Epoch 44/50\n",
      "2/2 [==============================] - 6s 4s/step - loss: 0.1859 - accuracy: 0.9688 - val_loss: 0.9147 - val_accuracy: 0.6724\n",
      "Epoch 45/50\n",
      "2/2 [==============================] - 7s 5s/step - loss: 0.2132 - accuracy: 0.9375 - val_loss: 0.8519 - val_accuracy: 0.7931\n",
      "Epoch 46/50\n",
      "2/2 [==============================] - 7s 5s/step - loss: 0.2229 - accuracy: 0.9375 - val_loss: 0.9010 - val_accuracy: 0.7069\n",
      "Epoch 47/50\n",
      "2/2 [==============================] - 7s 5s/step - loss: 0.1988 - accuracy: 0.9688 - val_loss: 0.8450 - val_accuracy: 0.7931\n",
      "Epoch 48/50\n",
      "2/2 [==============================] - 6s 4s/step - loss: 0.2077 - accuracy: 0.9531 - val_loss: 0.8635 - val_accuracy: 0.7759\n",
      "Epoch 49/50\n",
      "2/2 [==============================] - 7s 5s/step - loss: 0.1861 - accuracy: 0.9844 - val_loss: 0.8728 - val_accuracy: 0.6897\n",
      "Epoch 50/50\n",
      "2/2 [==============================] - 7s 5s/step - loss: 0.2183 - accuracy: 0.9062 - val_loss: 0.8467 - val_accuracy: 0.7931\n"
     ]
    }
   ],
   "source": [
    "# fit the model\n",
    "# Run the cell. It will take some time to execute\n",
    "r = model.fit(\n",
    "  training_set,\n",
    "  validation_data=test_set,\n",
    "  epochs=50,\n",
    "  steps_per_epoch=len(training_set),\n",
    "  validation_steps=len(test_set)\n",
    ")"
   ]
  },
  {
   "cell_type": "code",
   "execution_count": 30,
   "id": "4751304b",
   "metadata": {},
   "outputs": [
    {
     "data": {
      "text/plain": [
       "{'loss': [6.757802486419678,\n",
       "  5.496549129486084,\n",
       "  2.941920280456543,\n",
       "  1.7917580604553223,\n",
       "  1.968969464302063,\n",
       "  0.8885870575904846,\n",
       "  1.5206116437911987,\n",
       "  1.166947841644287,\n",
       "  1.2094783782958984,\n",
       "  0.9166207909584045,\n",
       "  1.0350213050842285,\n",
       "  0.6975817680358887,\n",
       "  0.852676272392273,\n",
       "  0.5985977053642273,\n",
       "  0.5894176363945007,\n",
       "  0.5644155144691467,\n",
       "  0.5138239860534668,\n",
       "  0.5894290208816528,\n",
       "  0.3949049115180969,\n",
       "  0.5267598032951355,\n",
       "  0.38710933923721313,\n",
       "  0.42656785249710083,\n",
       "  0.3569784164428711,\n",
       "  0.48719239234924316,\n",
       "  0.3597657382488251,\n",
       "  0.45514851808547974,\n",
       "  0.45725637674331665,\n",
       "  0.29550302028656006,\n",
       "  0.34180042147636414,\n",
       "  0.3495531380176544,\n",
       "  0.30271032452583313,\n",
       "  0.2963629961013794,\n",
       "  0.31331098079681396,\n",
       "  0.29625874757766724,\n",
       "  0.250684916973114,\n",
       "  0.26852652430534363,\n",
       "  0.24608424305915833,\n",
       "  0.22940194606781006,\n",
       "  0.22776676714420319,\n",
       "  0.2525342106819153,\n",
       "  0.23452888429164886,\n",
       "  0.19509276747703552,\n",
       "  0.23783591389656067,\n",
       "  0.1858881264925003,\n",
       "  0.21324674785137177,\n",
       "  0.22288984060287476,\n",
       "  0.19877710938453674,\n",
       "  0.2076825350522995,\n",
       "  0.18608184158802032,\n",
       "  0.21828977763652802],\n",
       " 'accuracy': [0.234375,\n",
       "  0.328125,\n",
       "  0.390625,\n",
       "  0.484375,\n",
       "  0.53125,\n",
       "  0.640625,\n",
       "  0.53125,\n",
       "  0.53125,\n",
       "  0.5625,\n",
       "  0.609375,\n",
       "  0.640625,\n",
       "  0.609375,\n",
       "  0.59375,\n",
       "  0.765625,\n",
       "  0.75,\n",
       "  0.765625,\n",
       "  0.71875,\n",
       "  0.765625,\n",
       "  0.84375,\n",
       "  0.765625,\n",
       "  0.84375,\n",
       "  0.828125,\n",
       "  0.84375,\n",
       "  0.765625,\n",
       "  0.921875,\n",
       "  0.8125,\n",
       "  0.8125,\n",
       "  0.875,\n",
       "  0.84375,\n",
       "  0.875,\n",
       "  0.875,\n",
       "  0.90625,\n",
       "  0.875,\n",
       "  0.890625,\n",
       "  0.921875,\n",
       "  0.9375,\n",
       "  0.90625,\n",
       "  0.96875,\n",
       "  0.953125,\n",
       "  0.90625,\n",
       "  0.9375,\n",
       "  0.953125,\n",
       "  0.953125,\n",
       "  0.96875,\n",
       "  0.9375,\n",
       "  0.9375,\n",
       "  0.96875,\n",
       "  0.953125,\n",
       "  0.984375,\n",
       "  0.90625],\n",
       " 'val_loss': [7.580095291137695,\n",
       "  2.750840902328491,\n",
       "  2.443410634994507,\n",
       "  1.727422833442688,\n",
       "  1.2901837825775146,\n",
       "  2.671837091445923,\n",
       "  1.9423688650131226,\n",
       "  1.4673160314559937,\n",
       "  1.0638394355773926,\n",
       "  1.9471749067306519,\n",
       "  1.3350012302398682,\n",
       "  1.1862503290176392,\n",
       "  0.9826217889785767,\n",
       "  1.390854001045227,\n",
       "  0.9046228528022766,\n",
       "  0.9595544338226318,\n",
       "  0.9643489122390747,\n",
       "  1.043409824371338,\n",
       "  1.0063995122909546,\n",
       "  0.8597849011421204,\n",
       "  1.0518070459365845,\n",
       "  0.9461398720741272,\n",
       "  0.9004597067832947,\n",
       "  0.8548582792282104,\n",
       "  1.115996241569519,\n",
       "  0.8726333379745483,\n",
       "  0.8914656639099121,\n",
       "  0.940067708492279,\n",
       "  0.9419209957122803,\n",
       "  0.8637961745262146,\n",
       "  0.8446568250656128,\n",
       "  0.9272529482841492,\n",
       "  0.9264757633209229,\n",
       "  0.8831883072853088,\n",
       "  0.888693630695343,\n",
       "  0.8825770020484924,\n",
       "  0.8700345754623413,\n",
       "  0.8641942739486694,\n",
       "  0.8620525002479553,\n",
       "  0.918218195438385,\n",
       "  0.857542872428894,\n",
       "  0.862851083278656,\n",
       "  0.9247257709503174,\n",
       "  0.9146687984466553,\n",
       "  0.8518988490104675,\n",
       "  0.9010217785835266,\n",
       "  0.8449997305870056,\n",
       "  0.8635213375091553,\n",
       "  0.8727889060974121,\n",
       "  0.8466758728027344],\n",
       " 'val_accuracy': [0.1551724076271057,\n",
       "  0.32758620381355286,\n",
       "  0.3965517282485962,\n",
       "  0.517241358757019,\n",
       "  0.568965494632721,\n",
       "  0.3448275923728943,\n",
       "  0.32758620381355286,\n",
       "  0.5862069129943848,\n",
       "  0.568965494632721,\n",
       "  0.3965517282485962,\n",
       "  0.517241358757019,\n",
       "  0.5862069129943848,\n",
       "  0.5517241358757019,\n",
       "  0.517241358757019,\n",
       "  0.6206896305084229,\n",
       "  0.6551724076271057,\n",
       "  0.6379310488700867,\n",
       "  0.6034482717514038,\n",
       "  0.6724137663841248,\n",
       "  0.6551724076271057,\n",
       "  0.6379310488700867,\n",
       "  0.6551724076271057,\n",
       "  0.7241379022598267,\n",
       "  0.6896551847457886,\n",
       "  0.568965494632721,\n",
       "  0.7068965435028076,\n",
       "  0.7413793206214905,\n",
       "  0.6379310488700867,\n",
       "  0.6379310488700867,\n",
       "  0.7241379022598267,\n",
       "  0.7758620977401733,\n",
       "  0.6379310488700867,\n",
       "  0.6379310488700867,\n",
       "  0.7586206793785095,\n",
       "  0.6896551847457886,\n",
       "  0.7413793206214905,\n",
       "  0.7586206793785095,\n",
       "  0.7758620977401733,\n",
       "  0.7931034564971924,\n",
       "  0.6034482717514038,\n",
       "  0.7931034564971924,\n",
       "  0.7758620977401733,\n",
       "  0.6724137663841248,\n",
       "  0.6724137663841248,\n",
       "  0.7931034564971924,\n",
       "  0.7068965435028076,\n",
       "  0.7931034564971924,\n",
       "  0.7758620977401733,\n",
       "  0.6896551847457886,\n",
       "  0.7931034564971924]}"
      ]
     },
     "execution_count": 30,
     "metadata": {},
     "output_type": "execute_result"
    }
   ],
   "source": [
    "r.history"
   ]
  },
  {
   "cell_type": "code",
   "execution_count": 31,
   "id": "866e7611",
   "metadata": {},
   "outputs": [
    {
     "data": {
      "image/png": "[encoded data removed]",
      "text/plain": [
       "<Figure size 640x480 with 1 Axes>"
      ]
     },
     "metadata": {},
     "output_type": "display_data"
    },
    {
     "data": {
      "image/png": "[encoded data removed]",
      "text/plain": [
       "<Figure size 640x480 with 1 Axes>"
      ]
     },
     "metadata": {},
     "output_type": "display_data"
    },
    {
     "data": {
      "text/plain": [
       "<Figure size 640x480 with 0 Axes>"
      ]
     },
     "metadata": {},
     "output_type": "display_data"
    }
   ],
   "source": [
    "# plot the loss\n",
    "plt.plot(r.history['loss'], label='train loss')\n",
    "plt.plot(r.history['val_loss'], label='val loss')\n",
    "plt.legend()\n",
    "plt.show()\n",
    "plt.savefig('LossVal_loss')\n",
    "\n",
    "# plot the accuracy\n",
    "plt.plot(r.history['accuracy'], label='train acc')\n",
    "plt.plot(r.history['val_accuracy'], label='val acc')\n",
    "plt.legend()\n",
    "plt.show()\n",
    "plt.savefig('AccVal_acc')"
   ]
  },
  {
   "cell_type": "code",
   "execution_count": 32,
   "id": "be143c45",
   "metadata": {},
   "outputs": [
    {
     "name": "stderr",
     "output_type": "stream",
     "text": [
      "C:\\Users\\abhin\\AppData\\Roaming\\Python\\Python310\\site-packages\\keras\\src\\engine\\training.py:3103: UserWarning: You are saving your model as an HDF5 file via `model.save()`. This file format is considered legacy. We recommend using instead the native Keras format, e.g. `model.save('my_model.keras')`.\n",
      "  saving_api.save_model(\n"
     ]
    }
   ],
   "source": [
    "# save it as a h5 file\n",
    "\n",
    "\n",
    "from tensorflow.keras.models import load_model\n",
    "\n",
    "model.save('model_resnet50.h5')"
   ]
  },
  {
   "cell_type": "markdown",
   "id": "c05eceaa",
   "metadata": {},
   "source": [
    "### Prediction for Test data"
   ]
  },
  {
   "cell_type": "code",
   "execution_count": 33,
   "id": "27b9b7bb",
   "metadata": {},
   "outputs": [
    {
     "name": "stdout",
     "output_type": "stream",
     "text": [
      "2/2 [==============================] - 9s 2s/step\n"
     ]
    }
   ],
   "source": [
    "y_pred = model.predict(test_set)"
   ]
  },
  {
   "cell_type": "code",
   "execution_count": 34,
   "id": "73bfb0df",
   "metadata": {},
   "outputs": [
    {
     "data": {
      "text/plain": [
       "array([[1.08585628e-02, 7.73953021e-01, 2.15188414e-01],\n",
       "       [5.83056186e-04, 9.71983790e-01, 2.74331644e-02],\n",
       "       [4.11919765e-02, 1.41633362e-01, 8.17174673e-01],\n",
       "       [7.24198413e-04, 8.72940183e-01, 1.26335636e-01],\n",
       "       [1.07903078e-01, 2.57205725e-01, 6.34891212e-01],\n",
       "       [4.57109958e-02, 4.83190417e-01, 4.71098602e-01],\n",
       "       [4.02837154e-03, 3.98266986e-02, 9.56144989e-01],\n",
       "       [3.89804016e-03, 9.80327070e-01, 1.57748275e-02],\n",
       "       [6.07362986e-02, 5.07269502e-01, 4.31994170e-01],\n",
       "       [6.02340093e-04, 9.94597077e-01, 4.80058230e-03],\n",
       "       [3.47341527e-03, 9.76770997e-01, 1.97555535e-02],\n",
       "       [7.43432820e-01, 2.47985199e-01, 8.58200155e-03],\n",
       "       [4.18511964e-03, 5.05713522e-01, 4.90101278e-01],\n",
       "       [1.20109860e-02, 8.94766927e-01, 9.32221040e-02],\n",
       "       [2.30554421e-03, 9.65922177e-01, 3.17723192e-02],\n",
       "       [1.58839393e-02, 6.03281796e-01, 3.80834311e-01],\n",
       "       [4.49763089e-02, 5.57836983e-03, 9.49445367e-01],\n",
       "       [2.71887109e-02, 3.07058036e-01, 6.65753186e-01],\n",
       "       [1.19533725e-02, 9.18684244e-01, 6.93623200e-02],\n",
       "       [7.86510389e-03, 9.26767170e-01, 6.53677434e-02],\n",
       "       [4.34306897e-02, 1.21976370e-02, 9.44371641e-01],\n",
       "       [8.50188255e-01, 1.10157318e-01, 3.96544486e-02],\n",
       "       [1.41699597e-01, 6.19753897e-01, 2.38546565e-01],\n",
       "       [1.33733749e-01, 5.27216613e-01, 3.39049697e-01],\n",
       "       [6.06711626e-01, 2.15276573e-02, 3.71760666e-01],\n",
       "       [4.39886898e-01, 3.30234855e-01, 2.29878202e-01],\n",
       "       [5.93253830e-03, 9.93119597e-01, 9.47910186e-04],\n",
       "       [3.43670398e-02, 2.04232559e-02, 9.45209622e-01],\n",
       "       [1.69776119e-02, 4.94493425e-01, 4.88528997e-01],\n",
       "       [1.16930087e-05, 3.23824905e-04, 9.99664545e-01],\n",
       "       [2.52661388e-03, 6.13380849e-01, 3.84092569e-01],\n",
       "       [6.20848179e-01, 2.82121420e-01, 9.70303789e-02],\n",
       "       [3.80117111e-02, 6.45210743e-01, 3.16777557e-01],\n",
       "       [5.77226980e-03, 9.63031352e-01, 3.11963912e-02],\n",
       "       [2.53860075e-02, 8.70127141e-01, 1.04486823e-01],\n",
       "       [1.26999177e-04, 9.93708253e-01, 6.16475428e-03],\n",
       "       [3.08124945e-02, 8.42354357e-01, 1.26833156e-01],\n",
       "       [6.23718128e-02, 1.12060532e-01, 8.25567663e-01],\n",
       "       [2.65255682e-02, 1.26185259e-02, 9.60855842e-01],\n",
       "       [2.58753914e-02, 2.65608367e-04, 9.73859012e-01],\n",
       "       [1.05671799e-02, 2.91032763e-03, 9.86522496e-01],\n",
       "       [1.19384909e-02, 5.42335868e-01, 4.45725650e-01],\n",
       "       [9.57207203e-01, 2.32803952e-02, 1.95123293e-02],\n",
       "       [2.04343256e-02, 2.68215686e-01, 7.11350024e-01],\n",
       "       [1.12016322e-02, 9.61162925e-01, 2.76354216e-02],\n",
       "       [1.33339185e-02, 3.61064970e-01, 6.25601113e-01],\n",
       "       [2.85350885e-02, 6.49301887e-01, 3.22162956e-01],\n",
       "       [3.28680277e-01, 3.54905814e-01, 3.16413909e-01],\n",
       "       [2.02509597e-01, 5.15709579e-01, 2.81780809e-01],\n",
       "       [2.25521863e-01, 7.36730993e-01, 3.77471261e-02],\n",
       "       [1.70635134e-01, 6.10509932e-01, 2.18854964e-01],\n",
       "       [3.37338418e-01, 1.07941493e-01, 5.54720044e-01],\n",
       "       [2.93286052e-02, 5.16540766e-01, 4.54130560e-01],\n",
       "       [3.77390825e-06, 2.05918285e-03, 9.97937083e-01],\n",
       "       [7.82964081e-02, 7.00971782e-01, 2.20731735e-01],\n",
       "       [8.77902329e-01, 4.86891717e-02, 7.34084919e-02],\n",
       "       [1.21719958e-02, 8.62723112e-01, 1.25104919e-01],\n",
       "       [3.29353400e-02, 9.51058090e-01, 1.60066020e-02]], dtype=float32)"
      ]
     },
     "execution_count": 34,
     "metadata": {},
     "output_type": "execute_result"
    }
   ],
   "source": [
    "y_pred"
   ]
  },
  {
   "cell_type": "code",
   "execution_count": 35,
   "id": "87784558",
   "metadata": {},
   "outputs": [],
   "source": [
    "import numpy as np\n",
    "y_pred = np.argmax(y_pred, axis=1)"
   ]
  },
  {
   "cell_type": "code",
   "execution_count": 36,
   "id": "547bd7eb",
   "metadata": {},
   "outputs": [
    {
     "data": {
      "text/plain": [
       "array([1, 1, 2, 1, 2, 1, 2, 1, 1, 1, 1, 0, 1, 1, 1, 1, 2, 2, 1, 1, 2, 0,\n",
       "       1, 1, 0, 0, 1, 2, 1, 2, 1, 0, 1, 1, 1, 1, 1, 2, 2, 2, 2, 1, 0, 2,\n",
       "       1, 2, 1, 1, 1, 1, 1, 2, 1, 2, 1, 0, 1, 1], dtype=int64)"
      ]
     },
     "execution_count": 36,
     "metadata": {},
     "output_type": "execute_result"
    }
   ],
   "source": [
    "y_pred"
   ]
  },
  {
   "cell_type": "code",
   "execution_count": null,
   "id": "b18be047",
   "metadata": {},
   "outputs": [],
   "source": []
  },
  {
   "cell_type": "code",
   "execution_count": 37,
   "id": "01d150a3",
   "metadata": {},
   "outputs": [],
   "source": [
    "from tensorflow.keras.models import load_model\n",
    "from tensorflow.keras.preprocessing import image"
   ]
  },
  {
   "cell_type": "code",
   "execution_count": 40,
   "id": "aca31287",
   "metadata": {},
   "outputs": [],
   "source": [
    "model=load_model('model_resnet50.h5')"
   ]
  },
  {
   "cell_type": "code",
   "execution_count": 55,
   "id": "cc0acf0f",
   "metadata": {
    "scrolled": true
   },
   "outputs": [
    {
     "data": {
      "text/plain": [
       "array([[[[-103.00567 , -115.947624, -122.96628 ],\n",
       "         [-103.00567 , -115.947624, -122.96628 ],\n",
       "         [-103.00567 , -115.947624, -122.96628 ],\n",
       "         ...,\n",
       "         [-103.03312 , -115.96331 , -122.927055],\n",
       "         [-103.03704 , -115.96723 , -122.930984],\n",
       "         [-103.04096 , -115.97115 , -122.934906]],\n",
       "\n",
       "        [[-103.00175 , -115.947624, -122.95451 ],\n",
       "         [-103.00175 , -115.947624, -122.95451 ],\n",
       "         [-103.00175 , -115.947624, -122.95451 ],\n",
       "         ...,\n",
       "         [-103.03312 , -115.96331 , -122.927055],\n",
       "         [-103.03704 , -115.96723 , -122.930984],\n",
       "         [-103.03704 , -115.96723 , -122.930984]],\n",
       "\n",
       "        [[-103.00175 , -115.947624, -122.95451 ],\n",
       "         [-103.00175 , -115.947624, -122.95451 ],\n",
       "         [-103.00175 , -115.947624, -122.95451 ],\n",
       "         ...,\n",
       "         [-103.03312 , -115.96331 , -122.927055],\n",
       "         [-103.03704 , -115.96723 , -122.930984],\n",
       "         [-103.03704 , -115.96723 , -122.930984]],\n",
       "\n",
       "        ...,\n",
       "\n",
       "        [[-103.40959 , -116.241745, -123.111374],\n",
       "         [-103.42136 , -116.25351 , -123.12314 ],\n",
       "         [-103.40959 , -116.241745, -123.111374],\n",
       "         ...,\n",
       "         [-103.57822 , -116.41037 , -123.30745 ],\n",
       "         [-103.56645 , -116.398605, -123.295685],\n",
       "         [-103.48802 , -116.320175, -123.217255]],\n",
       "\n",
       "        [[-103.40959 , -116.241745, -123.111374],\n",
       "         [-103.42136 , -116.25351 , -123.12314 ],\n",
       "         [-103.40959 , -116.241745, -123.111374],\n",
       "         ...,\n",
       "         [-103.57822 , -116.41037 , -123.30745 ],\n",
       "         [-103.56645 , -116.398605, -123.295685],\n",
       "         [-103.48802 , -116.320175, -123.217255]],\n",
       "\n",
       "        [[-103.37822 , -116.21037 , -123.08    ],\n",
       "         [-103.38214 , -116.214294, -123.08392 ],\n",
       "         [-103.42136 , -116.25351 , -123.12314 ],\n",
       "         ...,\n",
       "         [-103.45665 , -116.2888  , -123.18588 ],\n",
       "         [-103.50371 , -116.33586 , -123.23294 ],\n",
       "         [-103.495865, -116.32802 , -123.2251  ]]]], dtype=float32)"
      ]
     },
     "execution_count": 55,
     "metadata": {},
     "output_type": "execute_result"
    }
   ],
   "source": [
    "img_data"
   ]
  },
  {
   "cell_type": "code",
   "execution_count": 56,
   "id": "e10613d7",
   "metadata": {},
   "outputs": [],
   "source": [
    "img=image.load_img('D:\\\\panda\\\\Deep-Learning-Car-Brand\\\\CarBrand_Test\\\\lamborghini\\\\5.jpg',target_size=(224,224))"
   ]
  },
  {
   "cell_type": "code",
   "execution_count": 57,
   "id": "8c0e86bc",
   "metadata": {},
   "outputs": [
    {
     "data": {
      "text/plain": [
       "array([[[182., 212., 238.],\n",
       "        [182., 212., 238.],\n",
       "        [182., 212., 238.],\n",
       "        ...,\n",
       "        [192., 208., 231.],\n",
       "        [191., 207., 230.],\n",
       "        [190., 206., 229.]],\n",
       "\n",
       "       [[185., 212., 239.],\n",
       "        [185., 212., 239.],\n",
       "        [185., 212., 239.],\n",
       "        ...,\n",
       "        [192., 208., 231.],\n",
       "        [191., 207., 230.],\n",
       "        [191., 207., 230.]],\n",
       "\n",
       "       [[185., 212., 239.],\n",
       "        [185., 212., 239.],\n",
       "        [185., 212., 239.],\n",
       "        ...,\n",
       "        [192., 208., 231.],\n",
       "        [191., 207., 230.],\n",
       "        [191., 207., 230.]],\n",
       "\n",
       "       ...,\n",
       "\n",
       "       [[145., 137., 135.],\n",
       "        [142., 134., 132.],\n",
       "        [145., 137., 135.],\n",
       "        ...,\n",
       "        [ 95.,  94.,  92.],\n",
       "        [ 98.,  97.,  95.],\n",
       "        [118., 117., 115.]],\n",
       "\n",
       "       [[145., 137., 135.],\n",
       "        [142., 134., 132.],\n",
       "        [145., 137., 135.],\n",
       "        ...,\n",
       "        [ 95.,  94.,  92.],\n",
       "        [ 98.,  97.,  95.],\n",
       "        [118., 117., 115.]],\n",
       "\n",
       "       [[153., 145., 143.],\n",
       "        [152., 144., 142.],\n",
       "        [142., 134., 132.],\n",
       "        ...,\n",
       "        [126., 125., 123.],\n",
       "        [114., 113., 111.],\n",
       "        [116., 115., 113.]]], dtype=float32)"
      ]
     },
     "execution_count": 57,
     "metadata": {},
     "output_type": "execute_result"
    }
   ],
   "source": [
    "x=image.img_to_array(img)\n",
    "x"
   ]
  },
  {
   "cell_type": "code",
   "execution_count": 58,
   "id": "ce137fd9",
   "metadata": {},
   "outputs": [
    {
     "data": {
      "text/plain": [
       "(224, 224, 3)"
      ]
     },
     "execution_count": 58,
     "metadata": {},
     "output_type": "execute_result"
    }
   ],
   "source": [
    "x.shape"
   ]
  },
  {
   "cell_type": "code",
   "execution_count": 59,
   "id": "154dd93f",
   "metadata": {},
   "outputs": [],
   "source": [
    "x=x/255"
   ]
  },
  {
   "cell_type": "code",
   "execution_count": 60,
   "id": "896e8ccc",
   "metadata": {},
   "outputs": [
    {
     "data": {
      "text/plain": [
       "(1, 224, 224, 3)"
      ]
     },
     "execution_count": 60,
     "metadata": {},
     "output_type": "execute_result"
    }
   ],
   "source": [
    "x=np.expand_dims(x,axis=0)\n",
    "img_data=preprocess_input(x)\n",
    "img_data.shape"
   ]
  },
  {
   "cell_type": "code",
   "execution_count": 61,
   "id": "6097fa61",
   "metadata": {},
   "outputs": [
    {
     "name": "stdout",
     "output_type": "stream",
     "text": [
      "1/1 [==============================] - 0s 297ms/step\n"
     ]
    },
    {
     "data": {
      "text/plain": [
       "array([[0.00142613, 0.00408252, 0.99449134]], dtype=float32)"
      ]
     },
     "execution_count": 61,
     "metadata": {},
     "output_type": "execute_result"
    }
   ],
   "source": [
    "model.predict(img_data)"
   ]
  },
  {
   "cell_type": "code",
   "execution_count": 62,
   "id": "3750cd4b",
   "metadata": {},
   "outputs": [
    {
     "name": "stdout",
     "output_type": "stream",
     "text": [
      "1/1 [==============================] - 0s 281ms/step\n"
     ]
    }
   ],
   "source": [
    "a=np.argmax(model.predict(img_data), axis=1)"
   ]
  },
  {
   "cell_type": "code",
   "execution_count": 64,
   "id": "54927c6b",
   "metadata": {},
   "outputs": [
    {
     "data": {
      "text/plain": [
       "array([2], dtype=int64)"
      ]
     },
     "execution_count": 64,
     "metadata": {},
     "output_type": "execute_result"
    }
   ],
   "source": [
    "a"
   ]
  },
  {
   "cell_type": "code",
   "execution_count": null,
   "id": "a6f6d307",
   "metadata": {},
   "outputs": [],
   "source": []
  },
  {
   "cell_type": "code",
   "execution_count": null,
   "id": "afc0f1c3",
   "metadata": {},
   "outputs": [],
   "source": []
  }
 ],
 "metadata": {
  "kernelspec": {
   "display_name": "newenv",
   "language": "python",
   "name": "newenv"
  },
  "language_info": {
   "codemirror_mode": {
    "name": "ipython",
    "version": 3
   },
   "file_extension": ".py",
   "mimetype": "text/x-python",
   "name": "python",
   "nbconvert_exporter": "python",
   "pygments_lexer": "ipython3",
   "version": "3.10.13"
  }
 },
 "nbformat": 4,
 "nbformat_minor": 5
}
